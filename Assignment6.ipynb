{
 "cells": [
  {
   "cell_type": "code",
   "execution_count": 11,
   "id": "5553a73d",
   "metadata": {},
   "outputs": [
    {
     "name": "stdout",
     "output_type": "stream",
     "text": [
      "Enter a number:5\n",
      "Factorial is  120\n"
     ]
    }
   ],
   "source": [
    "#factorial\n",
    "\n",
    "import math\n",
    "n=int(input(\"Enter a number:\"))\n",
    "fact=1\n",
    "i=1\n",
    "while(i<=n):\n",
    "    fact=fact*i\n",
    "    i=i+1\n",
    "print(\"Factorial is \",fact)\n",
    "    "
   ]
  },
  {
   "cell_type": "code",
   "execution_count": 14,
   "id": "fedf490d",
   "metadata": {},
   "outputs": [
    {
     "name": "stdout",
     "output_type": "stream",
     "text": [
      "Enter a limit:5\n",
      "Fibonacci series:\n",
      "0\n",
      "1\n",
      "1\n",
      "2\n",
      "3\n"
     ]
    }
   ],
   "source": [
    "#fibonacci\n",
    "\n",
    "import math\n",
    "n=int(input(\"Enter a limit:\"))\n",
    "\n",
    "n1=0\n",
    "n2=1\n",
    "fib=n1+n2\n",
    "count=1\n",
    "print(\"Fibonacci series:\")\n",
    "while(count<=n):\n",
    "    count+=1\n",
    "    print(n1)\n",
    "    n1=n2\n",
    "    n2=fib\n",
    "    fib=n1+n2"
   ]
  },
  {
   "cell_type": "code",
   "execution_count": 1,
   "id": "9b2073df",
   "metadata": {},
   "outputs": [
    {
     "name": "stdout",
     "output_type": "stream",
     "text": [
      "Enter first number :10\n",
      "Enter second number :5\n",
      "GCD( 10.0 , 5.0 ) = 5.0\n"
     ]
    }
   ],
   "source": [
    " #GCD of two numbers\n",
    "\n",
    "x=float(input(\"Enter first number :\"))\n",
    "y=float(input(\"Enter second number :\"))\n",
    "if(x>y):\n",
    "    c=x\n",
    "else:\n",
    "    c=y\n",
    "while(c>0):\n",
    "    if(x%c==0)and(y%c==0):\n",
    "        print(\"GCD(\",x,\",\",y,\") =\",c)\n",
    "        break;\n",
    "    c=c-1 \n",
    "    "
   ]
  },
  {
   "cell_type": "code",
   "execution_count": 2,
   "id": "579a33d6",
   "metadata": {},
   "outputs": [
    {
     "name": "stdout",
     "output_type": "stream",
     "text": [
      "enter list of numbers :1,2,3,4,5,6\n",
      "sum of the elements in ['1', '2', '3', '4', '5', '6'] = 21\n"
     ]
    }
   ],
   "source": [
    "#sum of items in a list\n",
    "\n",
    "l=list(input(\"enter list of numbers :\").split(\",\"))\n",
    "m=len(l)\n",
    "a=0\n",
    "i=0\n",
    "for i in range(m):\n",
    "    b=int(l[i])\n",
    "    a=a+b\n",
    "print(\"sum of the elements in\",l,\"=\",a)\n"
   ]
  },
  {
   "cell_type": "code",
   "execution_count": 3,
   "id": "589e21f7",
   "metadata": {},
   "outputs": [
    {
     "name": "stdout",
     "output_type": "stream",
     "text": [
      "enter numbers supperated by commas :1,2,3,4,5,6\n",
      "tuple= ('1', '2', '3', '4', '5', '6')\n",
      "Average value of the numbers in given tuple : 3.5\n"
     ]
    }
   ],
   "source": [
    "#Average of tuple\n",
    "t=tuple(input(\"enter numbers supperated by commas :\").split(\",\"))\n",
    "print(\"tuple=\",t)\n",
    "l=len(t)\n",
    "c=0\n",
    "for i in range(l):\n",
    "    c=int(t[i])+c\n",
    "    avg=c/l\n",
    "print(\"Average value of the numbers in given tuple :\",avg)\n",
    "\n"
   ]
  },
  {
   "cell_type": "code",
   "execution_count": 4,
   "id": "3c2c6573",
   "metadata": {},
   "outputs": [
    {
     "name": "stdout",
     "output_type": "stream",
     "text": [
      "enter a string :lumna\n",
      "l is repeated 1 time(s)\n",
      "u is repeated 1 time(s)\n",
      "m is repeated 1 time(s)\n",
      "n is repeated 1 time(s)\n",
      "a is repeated 1 time(s)\n"
     ]
    }
   ],
   "source": [
    "#Freaquency of characters in a string\n",
    "\n",
    "s=input(\"enter a string :\")\n",
    "f={}\n",
    "for i in s:\n",
    "    if i in f:\n",
    "        f[i]=f[i]+1\n",
    "    else:\n",
    "        f[i]=1\n",
    "for keys,value in f.items():\n",
    "    print(keys,\"is repeated\",value,\"time(s)\")\n",
    "    "
   ]
  },
  {
   "cell_type": "code",
   "execution_count": null,
   "id": "02d7ab5b",
   "metadata": {},
   "outputs": [],
   "source": []
  }
 ],
 "metadata": {
  "kernelspec": {
   "display_name": "Python 3 (ipykernel)",
   "language": "python",
   "name": "python3"
  },
  "language_info": {
   "codemirror_mode": {
    "name": "ipython",
    "version": 3
   },
   "file_extension": ".py",
   "mimetype": "text/x-python",
   "name": "python",
   "nbconvert_exporter": "python",
   "pygments_lexer": "ipython3",
   "version": "3.10.12"
  }
 },
 "nbformat": 4,
 "nbformat_minor": 5
}
