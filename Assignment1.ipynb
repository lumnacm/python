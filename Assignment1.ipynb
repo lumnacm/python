{
 "cells": [
  {
   "cell_type": "code",
   "execution_count": 3,
   "id": "7d726f1c",
   "metadata": {},
   "outputs": [
    {
     "name": "stdout",
     "output_type": "stream",
     "text": [
      "enter the side:4\n",
      "area of a square= 16\n"
     ]
    }
   ],
   "source": [
    "a=int(input(\"enter the side:\"))\n",
    "area=a*a\n",
    "\n",
    "print(\"area of a square=\",area)\n"
   ]
  },
  {
   "cell_type": "code",
   "execution_count": 4,
   "id": "e08d4b4f",
   "metadata": {},
   "outputs": [
    {
     "name": "stdout",
     "output_type": "stream",
     "text": [
      "enter the base of triangle:4\n",
      "enter the height of triangle:6\n",
      "area of the right angled triangle= 12.0\n"
     ]
    }
   ],
   "source": [
    "p=int(input(\"enter the base of triangle:\"))\n",
    "q=int(input(\"enter the height of triangle:\"))\n",
    "area=(p*q)/2\n",
    "print(\"area of the right angled triangle=\",area)"
   ]
  },
  {
   "cell_type": "code",
   "execution_count": 5,
   "id": "d0f28d3c",
   "metadata": {},
   "outputs": [
    {
     "name": "stdout",
     "output_type": "stream",
     "text": [
      "enter the value of num5\n",
      "previous= 4\n",
      "next= 6\n"
     ]
    }
   ],
   "source": [
    "num=int(input(\"enter the value of num\"))\n",
    "print(\"previous=\",num-1)\n",
    "print(\"next=\",num+1)"
   ]
  },
  {
   "cell_type": "code",
   "execution_count": 7,
   "id": "5a797488",
   "metadata": {},
   "outputs": [
    {
     "name": "stdout",
     "output_type": "stream",
     "text": [
      "enter the principle amount:500\n",
      "enter the interest:2\n",
      "no.of years:3\n",
      "enter simple interest= 30.0\n"
     ]
    }
   ],
   "source": [
    "p=int(input(\"enter the principle amount:\"))\n",
    "r=int(input(\"enter the interest:\"))\n",
    "n=int(input(\"no.of years:\"))\n",
    "i=p*r*n/100\n",
    "print(\"enter simple interest=\",i)"
   ]
  },
  {
   "cell_type": "code",
   "execution_count": 8,
   "id": "17780c64",
   "metadata": {},
   "outputs": [
    {
     "name": "stdout",
     "output_type": "stream",
     "text": [
      "enter the value of n:1\n",
      " 1 + 11 + 111 = 123\n"
     ]
    }
   ],
   "source": [
    "n=int(input(\"enter the value of n:\"))\n",
    "a=n\n",
    "b=n*10+n\n",
    "c=n*110+n\n",
    "print(\"\",a,\"+\",b,\"+\",c,\"=\",a+b+c)"
   ]
  },
  {
   "cell_type": "code",
   "execution_count": null,
   "id": "66ac1fe7",
   "metadata": {},
   "outputs": [],
   "source": []
  }
 ],
 "metadata": {
  "kernelspec": {
   "display_name": "Python 3 (ipykernel)",
   "language": "python",
   "name": "python3"
  },
  "language_info": {
   "codemirror_mode": {
    "name": "ipython",
    "version": 3
   },
   "file_extension": ".py",
   "mimetype": "text/x-python",
   "name": "python",
   "nbconvert_exporter": "python",
   "pygments_lexer": "ipython3",
   "version": "3.10.12"
  }
 },
 "nbformat": 4,
 "nbformat_minor": 5
}

