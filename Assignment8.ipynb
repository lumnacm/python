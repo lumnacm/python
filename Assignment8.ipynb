{
 "cells": [
  {
   "cell_type": "code",
   "execution_count": 8,
   "id": "4b18fa2b",
   "metadata": {},
   "outputs": [
    {
     "name": "stdout",
     "output_type": "stream",
     "text": [
      "Enter numbers:3456\n",
      "Tuple= ('3', '4', '5', '6')\n",
      "Reversed= ('6', '5', '4', '3')\n"
     ]
    }
   ],
   "source": [
    "#Reverse of a tuple\n",
    "\n",
    "t=tuple(input(\"Enter numbers:\"))\n",
    "print(\"Tuple=\",t)\n",
    "t2=tuple(reversed(t))\n",
    "print(\"Reversed=\",t2)"
   ]
  },
  {
   "cell_type": "code",
   "execution_count": 3,
   "id": "4cb0d8e4",
   "metadata": {},
   "outputs": [
    {
     "name": "stdout",
     "output_type": "stream",
     "text": [
      "enter numbers supperated by commas :2,5,8\n",
      "tuple= ('2', '5', '8')\n",
      "Average value of the numbers in given tuple : 5.0\n"
     ]
    }
   ],
   "source": [
    "#Average of tuple\n",
    "t=tuple(input(\"enter numbers supperated by commas :\").split(\",\"))\n",
    "print(\"tuple=\",t)\n",
    "l=len(t)\n",
    "c=0\n",
    "for i in range(l):\n",
    "    c=int(t[i])+c\n",
    "    avg=c/l\n",
    "print(\"Average value of the numbers in given tuple :\",avg)\n"
   ]
  },
  {
   "cell_type": "code",
   "execution_count": 13,
   "id": "b8ff1d9e",
   "metadata": {},
   "outputs": [
    {
     "name": "stdout",
     "output_type": "stream",
     "text": [
      "Enter Number seperated by commas:123456\n",
      "Tuples ('1', '2', '3', '4', '5', '6')\n",
      "Enter the item to be Removed:5\n",
      "('1', '2', '3', '4', '6')\n"
     ]
    }
   ],
   "source": [
    "#Remove item from a tuple\n",
    "\n",
    "t=tuple(input(\"Enter Number seperated by commas:\"))\n",
    "tn=list(t)\n",
    "print(\"Tuples\",t)\n",
    "d=(input(\"Enter the item to be Removed:\"))\n",
    "for x in t:\n",
    "    if d in x:\n",
    "        tn.remove(x)\n",
    "        result=tuple(tn)\n",
    "print(result)"
   ]
  },
  {
   "cell_type": "code",
   "execution_count": 16,
   "id": "e72d8603",
   "metadata": {},
   "outputs": [
    {
     "name": "stdout",
     "output_type": "stream",
     "text": [
      "Enter number seperatd by commas:2345\n",
      "Tuples: ('2', '3', '4', '5')\n",
      "Third Element in Tuple:  4\n",
      "Third last Element in Tuple: 3\n"
     ]
    }
   ],
   "source": [
    "t=tuple(input(\"Enter number seperatd by commas:\"))\n",
    "print(\"Tuples:\",t)\n",
    "print(\"Third Element in Tuple: \",t[2])\n",
    "print(\"Third last Element in Tuple:\",t[-3])"
   ]
  },
  {
   "cell_type": "code",
   "execution_count": null,
   "id": "d6d36b02",
   "metadata": {},
   "outputs": [],
   "source": []
  }
 ],
 "metadata": {
  "kernelspec": {
   "display_name": "Python 3 (ipykernel)",
   "language": "python",
   "name": "python3"
  },
  "language_info": {
   "codemirror_mode": {
    "name": "ipython",
    "version": 3
   },
   "file_extension": ".py",
   "mimetype": "text/x-python",
   "name": "python",
   "nbconvert_exporter": "python",
   "pygments_lexer": "ipython3",
   "version": "3.10.12"
  }
 },
 "nbformat": 4,
 "nbformat_minor": 5
}
