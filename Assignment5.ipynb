{
 "cells": [
  {
   "cell_type": "code",
   "execution_count": 3,
   "id": "35e5b608",
   "metadata": {},
   "outputs": [
    {
     "name": "stdout",
     "output_type": "stream",
     "text": [
      "Enter a number:4\n",
      "The given number is positive\n"
     ]
    }
   ],
   "source": [
    "#positive,negative or zero\n",
    "\n",
    "n=int(input(\"Enter a number:\"))\n",
    "if(n>0):\n",
    "    print(\"The given number is positive\")\n",
    "elif(n==0):\n",
    "    print(\"The given number is zero\")\n",
    "else:\n",
    "    print(\"The given number is negative\")\n",
    "    \n",
    "    \n"
   ]
  },
  {
   "cell_type": "code",
   "execution_count": 7,
   "id": "03f858ea",
   "metadata": {},
   "outputs": [
    {
     "name": "stdout",
     "output_type": "stream",
     "text": [
      "Enter the first number:20\n",
      "Enter the second number:30\n",
      "Enter the third number:40\n",
      "Greatest number is:  40\n"
     ]
    }
   ],
   "source": [
    "#greatest of 3 numbers\n",
    "\n",
    "a=int(input(\"Enter the first number:\"))\n",
    "b=int(input(\"Enter the second number:\"))\n",
    "c=int(input(\"Enter the third number:\"))\n",
    "if(a>b and b>c):\n",
    "    print(\"Greatest numbe is: \",a)\n",
    "    \n",
    "if(b>a and b>c):\n",
    "    print(\"Greatest number is: \",b)\n",
    "else:\n",
    "    print(\"Greatest number is: \",c)"
   ]
  },
  {
   "cell_type": "code",
   "execution_count": 14,
   "id": "d99eda5a",
   "metadata": {},
   "outputs": [
    {
     "name": "stdout",
     "output_type": "stream",
     "text": [
      "Enter the first number:20\n",
      "Enter the second number:30\n",
      "Enter your choice:\n",
      "1.Addition\n",
      "2.Substraction\n",
      "3.Multiplication\n",
      "4.division\n",
      "Enter your choice:1\n",
      "Result is= 50\n"
     ]
    }
   ],
   "source": [
    "#simple calculator\n",
    "\n",
    "\n",
    "num1=float(input(\"Enter the first number:\"))\n",
    "num2=float(input(\"Enter the second number:\"))\n",
    "print(\"Enter your choice:\")\n",
    "print(\"1.Addition\")\n",
    "print(\"2.Substraction\")\n",
    "print(\"3.Multiplication\")\n",
    "print(\"4.division\")\n",
    "choice=float(input(\"Enter your choice:\"))\n",
    "if(choice==1):\n",
    "    print(\"Result is=\",round(num1+num2))\n",
    "elif(choice==2):\n",
    "    print(\"Result is=\",round(num1-num2))\n",
    "elif(choice==3):\n",
    "    print(\"Result is=\",round(num1*num2))\n",
    "elif(choice==4):\n",
    "    print(\"Result is=\",round(num1/num2))\n",
    "else:\n",
    "    print(\"Invalid\")\n"
   ]
  },
  {
   "cell_type": "code",
   "execution_count": null,
   "id": "1a19816d",
   "metadata": {},
   "outputs": [],
   "source": []
  }
 ],
 "metadata": {
  "kernelspec": {
   "display_name": "Python 3 (ipykernel)",
   "language": "python",
   "name": "python3"
  },
  "language_info": {
   "codemirror_mode": {
    "name": "ipython",
    "version": 3
   },
   "file_extension": ".py",
   "mimetype": "text/x-python",
   "name": "python",
   "nbconvert_exporter": "python",
   "pygments_lexer": "ipython3",
   "version": "3.10.12"
  }
 },
 "nbformat": 4,
 "nbformat_minor": 5
}
