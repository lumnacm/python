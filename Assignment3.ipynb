{
 "cells": [
  {
   "cell_type": "code",
   "execution_count": 1,
   "id": "f8970727",
   "metadata": {},
   "outputs": [
    {
     "name": "stdout",
     "output_type": "stream",
     "text": [
      "Change order of letters in a string\n",
      "Enter the string:Apple\n",
      "The resultant string is: epplA\n"
     ]
    }
   ],
   "source": [
    "print(\"Change order of letters in a string\")\n",
    "s=str(input(\"Enter the string:\"))\n",
    "a=s[0]\n",
    "b=s[-1]\n",
    "print(\"The resultant string is:\",b+s[1:-1]+a)"
   ]
  },
  {
   "cell_type": "code",
   "execution_count": 2,
   "id": "9af1b0c8",
   "metadata": {},
   "outputs": [
    {
     "name": "stdout",
     "output_type": "stream",
     "text": [
      "enter your string:apple\n",
      "the resulant string is : aple\n"
     ]
    }
   ],
   "source": [
    "#first and last character  interchange\n",
    "\n",
    "s=str(input(\"enter your string:\"))\n",
    "a=s[0:2]\n",
    "b=s[-2:]\n",
    "print(\"the resulant string is :\",a+s[-2:])"
   ]
  },
  {
   "cell_type": "code",
   "execution_count": 7,
   "id": "93aadc6f",
   "metadata": {},
   "outputs": [
    {
     "name": "stdout",
     "output_type": "stream",
     "text": [
      "enter the first string:hello\n",
      "enter the second string:kmct\n",
      "The resultant string is: kmllo  hect\n"
     ]
    }
   ],
   "source": [
    "#swap first two characters of two string\n",
    "\n",
    "s1=str(input(\"enter the first string:\"))\n",
    "s2=str(input(\"enter the second string:\"))\n",
    "a=s1[0:2]\n",
    "b=s2[0:2]\n",
    "print(\"The resultant string is:\",b+s1[2:],\"\",a+s2[2:])"
   ]
  },
  {
   "cell_type": "code",
   "execution_count": 3,
   "id": "9eb058da",
   "metadata": {},
   "outputs": [
    {
     "name": "stdout",
     "output_type": "stream",
     "text": [
      "enter the string:onion\n",
      "new string is: oni$n\n"
     ]
    }
   ],
   "source": [
    "#replacing letters\n",
    "\n",
    "s=str(input(\"enter the string:\"))\n",
    "a=s[0]\n",
    "b=s[1:]\n",
    "st=b.replace(\"o\",\"$\")\n",
    "sn=s[0]+st\n",
    "print (\"new string is:\",sn)"
   ]
  },
  {
   "cell_type": "code",
   "execution_count": null,
   "id": "2167e07b",
   "metadata": {},
   "outputs": [],
   "source": []
  }
 ],
 "metadata": {
  "kernelspec": {
   "display_name": "Python 3 (ipykernel)",
   "language": "python",
   "name": "python3"
  },
  "language_info": {
   "codemirror_mode": {
    "name": "ipython",
    "version": 3
   },
   "file_extension": ".py",
   "mimetype": "text/x-python",
   "name": "python",
   "nbconvert_exporter": "python",
   "pygments_lexer": "ipython3",
   "version": "3.10.12"
  }
 },
 "nbformat": 4,
 "nbformat_minor": 5
}

