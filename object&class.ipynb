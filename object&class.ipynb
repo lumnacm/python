{
 "cells": [
  {
   "cell_type": "code",
   "execution_count": 16,
   "id": "af6901d5",
   "metadata": {},
   "outputs": [
    {
     "name": "stdout",
     "output_type": "stream",
     "text": [
      "Enter length of Rectangle1:2\n",
      "Enter breadth of Rectangle1:3\n",
      "Enter length of Rectangle2:4\n",
      "Enter breadth of Rectangle2:5\n",
      "Rectangle 2 is greater\n"
     ]
    }
   ],
   "source": [
    "#Rectangle class\n",
    "\n",
    "class rectangle:\n",
    "    def get(self,l,b):\n",
    "        self.l=l\n",
    "        self.b=b\n",
    "    def area(self,l,b):\n",
    "         return l*b\n",
    "    def perimeter(self,l,b):\n",
    "         return 2*(l+b)\n",
    "r1=rectangle()\n",
    "r2=rectangle()\n",
    "l1=int(input(\"Enter length of Rectangle1:\"))\n",
    "b1=int(input(\"Enter breadth of Rectangle1:\"))\n",
    "l2=int(input(\"Enter length of Rectangle2:\"))\n",
    "b2=int(input(\"Enter breadth of Rectangle2:\"))\n",
    "p=r1.area(l1,b1)\n",
    "q=r2.area(l2,b2)\n",
    "if(p>q):\n",
    "    print(\"Rectangle 1 is greater\")\n",
    "elif(p<q):        \n",
    "    print(\"Rectangle 2 is greater\")\n",
    "else:\n",
    "    print(\"Rectangles are equal\")"
   ]
  },
  {
   "cell_type": "code",
   "execution_count": null,
   "id": "26970566",
   "metadata": {},
   "outputs": [
    {
     "name": "stdout",
     "output_type": "stream",
     "text": [
      "Enter name:ABC\n",
      "Enter account number:1234\n",
      "Enter account type:SAVING\n",
      "Enter initial balance:2000\n",
      "1.Deposit 2.Withdraw 3.Account info 4.Exit\n",
      " Choose your option:1\n",
      "Deposit amount:500\n",
      "Initial balance: 2000\n",
      "500 is deposit\n",
      "current balance: 2500\n",
      "1.Deposit 2.Withdraw 3.Account info 4.Exit\n",
      " Choose your option:3\n",
      "Account holder name: ABC\n",
      "Account Number: 1234\n",
      "Account type: SAVING\n",
      "Account Balance: 2500\n",
      "1.Deposit 2.Withdraw 3.Account info 4.Exit\n",
      " Choose your option:2\n",
      "withdraw amount:3000\n",
      "Initial balance: 2500\n",
      "you don't have anough balance to withdraw!!\n",
      "Current balance: 2500\n"
     ]
    }
   ],
   "source": [
    "#Bank account\n",
    "class bankaccount:\n",
    "    def __init__(self,a_name,a_no,a_type,a_balance):\n",
    "        self.acc_name=a_name\n",
    "        self.acc_no=a_no\n",
    "        self.acc_type=a_type\n",
    "        self.acc_balance=a_balance\n",
    "    def deposit(self,a_deposit):\n",
    "        print(\"Initial balance:\",self.acc_balance)\n",
    "        self.acc_balance+=a_deposit\n",
    "        print(a_deposit,\"is deposit\")\n",
    "        print(\"current balance:\",self.acc_balance)\n",
    "    def withdraw(self):\n",
    "        self.amount=int(input(\"withdraw amount:\"))\n",
    "        print(\"Initial balance:\",self.acc_balance)\n",
    "        if self.amount>self.acc_balance:\n",
    "            print(\"you don't have anough balance to withdraw!!\")\n",
    "            print(\"Current balance:\",self.acc_balance)\n",
    "        else:\n",
    "            print(self.amount,\"is withdrawed\")\n",
    "            self.acc_balance-=self.amount\n",
    "            print(\"Current balance:\",self.acc_balance)\n",
    "    def acc_info(self):\n",
    "        print(\"Account holder name:\",self.acc_name)\n",
    "        print(\"Account Number:\",self.acc_no)\n",
    "        print(\"Account type:\",self.acc_type)\n",
    "        print(\"Account Balance:\",self.acc_balance)\n",
    "name=input(\"Enter name:\")\n",
    "no=int(input(\"Enter account number:\"))\n",
    "typ=input(\"Enter account type:\")\n",
    "bal=int(input(\"Enter initial balance:\"))\n",
    "holder=bankaccount(name,no,typ,bal)\n",
    "while(True):\n",
    "    ch=int(input(\"1.Deposit 2.Withdraw 3.Account info 4.Exit\\n Choose your option:\"))\n",
    "    if ch==1:\n",
    "        amount=int(input(\"Deposit amount:\"))\n",
    "        holder.deposit(amount)\n",
    "    elif ch==2:\n",
    "        holder.withdraw()\n",
    "    elif ch==3:\n",
    "         holder.acc_info()\n",
    "    else:\n",
    "        print(\"Exiting...\")\n",
    "        break\n"
   ]
  },
  {
   "cell_type": "code",
   "execution_count": 2,
   "id": "ee41adb7",
   "metadata": {},
   "outputs": [
    {
     "name": "stdout",
     "output_type": "stream",
     "text": [
      "Enter publisher name:DC BOOKS\n",
      "Enter book name:PYTHON\n",
      "Enter author name:SAM\n",
      "Enter rate of book:1000\n",
      "Enter no.of pages:200\n",
      "Book details\n",
      "Publisher name= DC BOOKS\n",
      "Title= PYTHON\n",
      "Author SAM\n",
      "Rate= 1000\n",
      "No.of pages= 200\n"
     ]
    }
   ],
   "source": [
    "#Publisher\n",
    "\n",
    "class publisher:\n",
    "    def __init__(self,pname):\n",
    "        self.pubname=pname\n",
    "    def display1(self):\n",
    "        print(\"Book details\\nPublisher name=\",self.pubname)\n",
    "class book(publisher):\n",
    "    def __init__(self,pname,bname,author):\n",
    "        self.title=bname\n",
    "        self.auth=author\n",
    "        publisher.__init__(self,pname)\n",
    "    def display2(self):\n",
    "        print(\"Title=\",self.title)\n",
    "        print(\"Author\",self.auth)\n",
    "class python(book):\n",
    "    def __init__(self,pname,title,au,price,np):\n",
    "        self.rate=price\n",
    "        self.nop=np\n",
    "        book.__init__(self,pname,title,au)\n",
    "    def display3(self):\n",
    "        print(\"Rate=\",self.rate)\n",
    "        print(\"No.of pages=\",self.nop)\n",
    "p=input(\"Enter publisher name:\")\n",
    "b=input(\"Enter book name:\")\n",
    "a=input(\"Enter author name:\")\n",
    "r=int(input(\"Enter rate of book:\"))\n",
    "n=int(input(\"Enter no.of pages:\"))\n",
    "a=python(p,b,a,r,n)\n",
    "a.display1()\n",
    "a.display2()\n",
    "a.display3()"
   ]
  },
  {
   "cell_type": "code",
   "execution_count": 5,
   "id": "ca478b90",
   "metadata": {},
   "outputs": [
    {
     "name": "stdout",
     "output_type": "stream",
     "text": [
      "Enter length of rectangle 1: 3\n",
      "Enter width of rectangle 1: 5\n",
      "Enter length of rectangle1 2: 7\n",
      "Enter width of rectangle 2: 9\n",
      "rectangle 2 is greater\n"
     ]
    }
   ],
   "source": [
    "\n",
    "\n",
    "class rectangle:\n",
    "    def __init__(self,l,w):\n",
    "        self.length=l\n",
    "        self.width=w\n",
    "        self.a=l*w\n",
    "    def __gt__(self,other):\n",
    "        if self.a < other.a:\n",
    "            print(\"rectangle 1 is greater\")\n",
    "        else:\n",
    "            print(\"rectangle 2 is greater\")\n",
    "\n",
    "l1=int(input(\"Enter length of rectangle 1: \"))\n",
    "w1=int(input(\"Enter width of rectangle 1: \"))\n",
    "l2=int(input(\"Enter length of rectangle1 2: \"))\n",
    "w2=int(input(\"Enter width of rectangle 2: \"))\n",
    "\n",
    "r1=rectangle(l1,w1)\n",
    "r2=rectangle(l2,w2)\n",
    "r1<r2\n",
    "\n",
    "\n"
   ]
  },
  {
   "cell_type": "code",
   "execution_count": null,
   "id": "71c4574d",
   "metadata": {},
   "outputs": [],
   "source": []
  }
 ],
 "metadata": {
  "kernelspec": {
   "display_name": "Python 3 (ipykernel)",
   "language": "python",
   "name": "python3"
  },
  "language_info": {
   "codemirror_mode": {
    "name": "ipython",
    "version": 3
   },
   "file_extension": ".py",
   "mimetype": "text/x-python",
   "name": "python",
   "nbconvert_exporter": "python",
   "pygments_lexer": "ipython3",
   "version": "3.11.5"
  }
 },
 "nbformat": 4,
 "nbformat_minor": 5
}
