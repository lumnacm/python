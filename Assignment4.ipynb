{
 "cells": [
  {
   "cell_type": "code",
   "execution_count": 2,
   "id": "3c07ea7c",
   "metadata": {},
   "outputs": [
    {
     "name": "stdout",
     "output_type": "stream",
     "text": [
      "Enter numbers:20,40,60\n",
      "List= ['20', '40', '60']\n"
     ]
    }
   ],
   "source": [
    "# create a list\n",
    "\n",
    "n=input(\"Enter numbers:\")\n",
    "p=n.split(\",\")\n",
    "print(\"List=\",p)"
   ]
  },
  {
   "cell_type": "code",
   "execution_count": 3,
   "id": "9d6b61a3",
   "metadata": {},
   "outputs": [
    {
     "name": "stdout",
     "output_type": "stream",
     "text": [
      "Enter colors:pink,blue,yellow,white\n",
      "first color= pink\n",
      "Last color= white\n"
     ]
    }
   ],
   "source": [
    "#list of colors\n",
    "\n",
    "n=input(\"Enter colors:\")\n",
    "p=n.split(\",\")\n",
    "print(\"first color=\",p[0])\n",
    "print(\"Last color=\",p[-1])"
   ]
  },
  {
   "cell_type": "code",
   "execution_count": 5,
   "id": "db636c01",
   "metadata": {},
   "outputs": [
    {
     "name": "stdout",
     "output_type": "stream",
     "text": [
      "enter a file name:sum.py\n",
      "List= py\n"
     ]
    }
   ],
   "source": [
    "#file extension\n",
    "\n",
    "a=input(\"enter a file name:\")\n",
    "p=a.split(\".\")\n",
    "print(\"List=\",p[-1])"
   ]
  },
  {
   "cell_type": "code",
   "execution_count": null,
   "id": "1198c511",
   "metadata": {},
   "outputs": [],
   "source": []
  }
 ],
 "metadata": {
  "kernelspec": {
   "display_name": "Python 3 (ipykernel)",
   "language": "python",
   "name": "python3"
  },
  "language_info": {
   "codemirror_mode": {
    "name": "ipython",
    "version": 3
   },
   "file_extension": ".py",
   "mimetype": "text/x-python",
   "name": "python",
   "nbconvert_exporter": "python",
   "pygments_lexer": "ipython3",
   "version": "3.10.12"
  }
 },
 "nbformat": 4,
 "nbformat_minor": 5
}
