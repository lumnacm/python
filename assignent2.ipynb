{
 "cells": [
  {
   "cell_type": "code",
   "execution_count": 12,
   "id": "67c7a55f",
   "metadata": {},
   "outputs": [
    {
     "name": "stdout",
     "output_type": "stream",
     "text": [
      "area of the circle\n",
      "enter the radius of the circle:42\n",
      "area of the circle is = 5542\n"
     ]
    }
   ],
   "source": [
    "#area of the circle\n",
    "print(\"area of the circle\")\n",
    "from math import pi\n",
    "a=float(input(\"enter the radius of the circle:\"))\n",
    "area=round(pi*a*a)\n",
    "print(\"area of the circle is =\",area)"
   ]
  },
  {
   "cell_type": "code",
   "execution_count": 9,
   "id": "9bc34664",
   "metadata": {},
   "outputs": [
    {
     "name": "stdout",
     "output_type": "stream",
     "text": [
      "celsius to fahrenheit\n",
      "enter the degree of celsius:56\n",
      "the fahrenheit is: 132.8\n"
     ]
    }
   ],
   "source": [
    "#celsius to fahrenheit\n",
    "print(\"celsius to fahrenheit\")\n",
    "a=int(input(\"enter the degree of celsius:\"))\n",
    "f=(a*9/5)+32\n",
    "print(\"the fahrenheit is:\",f)"
   ]
  },
  {
   "cell_type": "code",
   "execution_count": 10,
   "id": "2d57a1ac",
   "metadata": {},
   "outputs": [
    {
     "name": "stdout",
     "output_type": "stream",
     "text": [
      "kilometers to miles\n",
      "enter the kilometers:65\n",
      "miles= 40.389115000000004\n"
     ]
    }
   ],
   "source": [
    "#kilometers to miles\n",
    "print(\"kilometers to miles\")\n",
    "a=float(input(\"enter the kilometers:\"))\n",
    "b=(a*0.621371)\n",
    "print(\"miles=\",b)"
   ]
  },
  {
   "cell_type": "code",
   "execution_count": 7,
   "id": "4af3e241",
   "metadata": {},
   "outputs": [
    {
     "name": "stdout",
     "output_type": "stream",
     "text": [
      "Biggest of two numbers\n",
      "enter the first number:43\n",
      "enter the second number:56\n",
      "The greatest number is: 56\n"
     ]
    }
   ],
   "source": [
    "#biggest of two number\n",
    "\n",
    "print(\"Biggest of two numbers\")\n",
    "a=int(input(\"enter the first number:\"))\n",
    "b=int(input(\"enter the second number:\"))\n",
    "if a<b:\n",
    "    print(\"The greatest number is:\",b)\n",
    "else:\n",
    "      print(\"The greatest number is\",a)"
   ]
  },
  {
   "cell_type": "code",
   "execution_count": null,
   "id": "5c8200ba",
   "metadata": {},
   "outputs": [],
   "source": []
  }
 ],
 "metadata": {
  "kernelspec": {
   "display_name": "Python 3 (ipykernel)",
   "language": "python",
   "name": "python3"
  },
  "language_info": {
   "codemirror_mode": {
    "name": "ipython",
    "version": 3
   },
   "file_extension": ".py",
   "mimetype": "text/x-python",
   "name": "python",
   "nbconvert_exporter": "python",
   "pygments_lexer": "ipython3",
   "version": "3.10.12"
  }
 },
 "nbformat": 4,
 "nbformat_minor": 5
}

