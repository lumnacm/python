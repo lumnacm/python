{
 "cells": [
  {
   "cell_type": "code",
   "execution_count": 1,
   "id": "99278879",
   "metadata": {},
   "outputs": [
    {
     "name": "stdout",
     "output_type": "stream",
     "text": [
      "Enter name: lumna\n",
      "Enter key value: neena\n",
      "Enter name: k\n",
      "Enter key value: hadiya\n",
      "Enter name: nadhu\n",
      "Enter key value: oo\n",
      "dictoinory= {'lumna': 'neena', 'k': 'hadiya', 'nadhu': 'oo'}\n",
      "Ascending order= {'k': 'hadiya', 'lumna': 'neena', 'nadhu': 'oo'}\n",
      "Descending order= {'nadhu': 'oo', 'lumna': 'neena', 'k': 'hadiya'}\n"
     ]
    }
   ],
   "source": [
    "#sorting in ascending and descending\n",
    "dic={}\n",
    "for i in range(3):\n",
    "    name = input(\"Enter name: \")\n",
    "    key = input(\"Enter key value: \")\n",
    "    dic[name] = key\n",
    "print(\"dictoinory=\",dic)\n",
    "ascend=sorted(dic.items())\n",
    "new_dict = dict(ascend)\n",
    "print(\"Ascending order=\",new_dict)\n",
    "\n",
    "\n",
    "descend = dict(sorted(dic.items(),  reverse = True))\n",
    "print(\"Descending order=\",descend)"
   ]
  },
  {
   "cell_type": "code",
   "execution_count": 2,
   "id": "713c22f6",
   "metadata": {},
   "outputs": [
    {
     "name": "stdout",
     "output_type": "stream",
     "text": [
      "enter the name :lumna\n",
      "enter the age:21\n",
      "first dictionary is: {'name': 'lumna', 'age': '21'}\n",
      "enter the color:pink\n",
      "enter the flower name:rose\n",
      "second dictionary is: {'color': 'pink', 'flower': 'rose'}\n",
      "merge dictionary is {'name': 'lumna', 'age': '21', 'color': 'pink', 'flower': 'rose'}\n"
     ]
    }
   ],
   "source": [
    "#merge dictionaries\n",
    "\n",
    "d1={}\n",
    "name=input(\"enter the name :\")\n",
    "age=input(\"enter the age:\")\n",
    "d1['name']=name\n",
    "d1['age']=age\n",
    "print(\"first dictionary is:\",d1)\n",
    "d2={}\n",
    "color=input(\"enter the color:\")\n",
    "flower=input(\"enter the flower name:\")\n",
    "d2['color']=color\n",
    "d2['flower']=flower\n",
    "print(\"second dictionary is:\",d2)\n",
    "d3=d1\n",
    "d1.update(d2)\n",
    "print(\"merge dictionary is\",d3)\n"
   ]
  },
  {
   "cell_type": "code",
   "execution_count": null,
   "id": "207ec58d",
   "metadata": {},
   "outputs": [],
   "source": []
  }
 ],
 "metadata": {
  "kernelspec": {
   "display_name": "Python 3 (ipykernel)",
   "language": "python",
   "name": "python3"
  },
  "language_info": {
   "codemirror_mode": {
    "name": "ipython",
    "version": 3
   },
   "file_extension": ".py",
   "mimetype": "text/x-python",
   "name": "python",
   "nbconvert_exporter": "python",
   "pygments_lexer": "ipython3",
   "version": "3.11.5"
  }
 },
 "nbformat": 4,
 "nbformat_minor": 5
}
