{
 "cells": [
  {
   "cell_type": "code",
   "execution_count": 1,
   "id": "92e8f54a",
   "metadata": {},
   "outputs": [
    {
     "name": "stdout",
     "output_type": "stream",
     "text": [
      "Enter numbers with comma seperation:-5,6,7,8\n",
      "positive integers from the given list are:  [6, 7, 8]\n",
      "square of numbes in the list is; [25, 36, 49, 64]\n",
      "Enter the word: lumna\n",
      "vowel in lumna are ['u', 'a']\n",
      "ordinal values of  ['l', 'u', 'm', 'n', 'a'] are: [108, 117, 109, 110, 97]\n"
     ]
    }
   ],
   "source": [
    "#using list comprehension\n",
    "\n",
    "n=input(\"Enter numbers with comma seperation:\").split(\",\")\n",
    "a=map(int,n)\n",
    "new1=[x for x in a if x>0]\n",
    "print(\"positive integers from the given list are: \",new1)\n",
    "d=map(int,n)\n",
    "\n",
    "#Square of n numbers\n",
    "new2=[x**2 for x in d]\n",
    "print(\"square of numbes in the list is;\",new2)\n",
    "\n",
    "#list of vowels\n",
    "vw=input(\"Enter the word: \")\n",
    "vw1=[x for x in vw]\n",
    "vowel=['a','e','i','o','u','A','E','I','O','U']\n",
    "vw2=[x for x in vw1 if x in vowel]\n",
    "print(\"vowel in\",vw,\"are\",vw2)\n",
    "\n",
    "#ordinal values\n",
    "ordinal=[ord(x) for x in vw1]\n",
    "print(\"ordinal values of \",vw1,\"are:\",ordinal)\n"
   ]
  },
  {
   "cell_type": "code",
   "execution_count": 2,
   "id": "5d7ae302",
   "metadata": {},
   "outputs": [
    {
     "name": "stdout",
     "output_type": "stream",
     "text": [
      "Enter numbers with comma seperated:1,55,3,4,23,78\n",
      "List 1 [1, 55, 3, 4, 23, 78]\n",
      "List after removing even numbers= [1, 55, 3, 23]\n"
     ]
    }
   ],
   "source": [
    "#Remove even numbers from list\n",
    "n=input(\"Enter numbers with comma seperated:\").split(\",\")\n",
    "a=map(int,n)\n",
    "list1=[x for x in a ]\n",
    "print(\"List 1\",list1)\n",
    "for even in list1:\n",
    "    if(even%2==0):\n",
    "        list1.remove(even)\n",
    "print(\"List after removing even numbers=\",list1)"
   ]
  },
  {
   "cell_type": "code",
   "execution_count": 3,
   "id": "2e08644b",
   "metadata": {},
   "outputs": [
    {
     "name": "stdout",
     "output_type": "stream",
     "text": [
      "Enter colors for first set with comma seperated: white,yellow,pink\n",
      "Enter colors for second set with comma seperated: red,green,blue\n",
      "Difference of  {'white', 'pink', 'yellow'} and {'blue', 'red', 'green'} :\n",
      "{'yellow', 'white', 'pink'}\n"
     ]
    }
   ],
   "source": [
    "c1=set(input('Enter colors for first set with comma seperated: ').split(','))\n",
    "c2=set(input('Enter colors for second set with comma seperated: ').split(','))\n",
    "print('Difference of ',c1,'and',c2,':')\n",
    "print(c1.difference(c2))\n"
   ]
  },
  {
   "cell_type": "code",
   "execution_count": 5,
   "id": "cd240827",
   "metadata": {},
   "outputs": [
    {
     "name": "stdout",
     "output_type": "stream",
     "text": [
      "Enter first list with comma seperated:4,5,6,7,8\n",
      "Enter second list with comma seperated:9,8,7,6,5\n",
      "both list are of equal length\n",
      "Sum of two lists are not equal\n",
      "7 occurs in both list\n",
      "5 occurs in both list\n",
      "6 occurs in both list\n",
      "8 occurs in both list\n"
     ]
    }
   ],
   "source": [
    "#Check two list\n",
    "list1=set(input('Enter first list with comma seperated:').split(','))\n",
    "list2=set(input('Enter second list with comma seperated:').split(','))\n",
    "sum1=str(0)\n",
    "sum2=str(0)\n",
    "if len(list1)==len(list2):\n",
    "    print(\"both list are of equal length\")\n",
    "else:\n",
    "    print(\"two lists have unique length\")\n",
    "for x in list1:\n",
    "    sum1=sum1+x\n",
    "for x in list2:\n",
    "    sum2=sum2+x\n",
    "if sum1==sum2:\n",
    "    a=\"equal\"\n",
    "else:\n",
    "    a=\"not equal\"\n",
    "print(\"Sum of two lists are\",a)\n",
    "for x in list1:\n",
    "    for y in list2:\n",
    "        if x ==y:\n",
    "            print(y,\"occurs in both list\")\n"
   ]
  },
  {
   "cell_type": "code",
   "execution_count": 7,
   "id": "896460db",
   "metadata": {},
   "outputs": [
    {
     "name": "stdout",
     "output_type": "stream",
     "text": [
      "Enter list comma seperated:neena,lumna\n",
      "{'neena', 'lumna'}\n",
      "Occurence of a in  {'neena', 'lumna'} is: 2\n"
     ]
    }
   ],
   "source": [
    "#store a list of names count the occurences of 'a' within the list\n",
    "names=set(input('Enter list comma seperated:').split(','))\n",
    "print(names)\n",
    "count=0\n",
    "for name in names:\n",
    "    count+=name.count('a')\n",
    "print(\"Occurence of a in \",names,\"is:\",count)\n"
   ]
  },
  {
   "cell_type": "code",
   "execution_count": 10,
   "id": "0140c96b",
   "metadata": {},
   "outputs": [
    {
     "name": "stdout",
     "output_type": "stream",
     "text": [
      "Enter an integer('enter stop to stop'):1\n",
      "Enter an integer('enter stop to stop'):101\n",
      "Enter an integer('enter stop to stop'):100\n",
      "Enter an integer('enter stop to stop'):200\n",
      "Enter an integer('enter stop to stop'):stop\n",
      "[1, 'over', 100, 'over']\n"
     ]
    }
   ],
   "source": [
    "#List of integers value greater than 100 store 'over'\n",
    "values=[]\n",
    "while True:\n",
    "    value=input(\"Enter an integer('enter stop to stop'):\")\n",
    "    if value == 'stop':\n",
    "        break\n",
    "    elif int(value)>100:\n",
    "         values.append('over')\n",
    "    else:\n",
    "        values.append(int(value))\n",
    "print(values)"
   ]
  },
  {
   "cell_type": "code",
   "execution_count": null,
   "id": "fb18eb71",
   "metadata": {},
   "outputs": [],
   "source": []
  }
 ],
 "metadata": {
  "kernelspec": {
   "display_name": "Python 3 (ipykernel)",
   "language": "python",
   "name": "python3"
  },
  "language_info": {
   "codemirror_mode": {
    "name": "ipython",
    "version": 3
   },
   "file_extension": ".py",
   "mimetype": "text/x-python",
   "name": "python",
   "nbconvert_exporter": "python",
   "pygments_lexer": "ipython3",
   "version": "3.11.5"
  }
 },
 "nbformat": 4,
 "nbformat_minor": 5
}
