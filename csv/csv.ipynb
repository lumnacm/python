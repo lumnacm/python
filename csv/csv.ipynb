{
 "cells": [
  {
   "cell_type": "code",
   "execution_count": 1,
   "id": "afd3ec42",
   "metadata": {},
   "outputs": [
    {
     "name": "stdout",
     "output_type": "stream",
     "text": [
      "Enter new file name with csv extension:h.csv\n",
      "Enter number of dept:2\n",
      "Enter comma seperated deptid,deptname,te,location:1001,MCA,10,kozhikode\n",
      "Enter comma seperated deptid,deptname,te,location:1002,MBA,20,kozhikode\n",
      "1001     MCA\n",
      "1002     MBA\n"
     ]
    }
   ],
   "source": [
    "import csv\n",
    "file1=input(\"Enter new file name with csv extension:\")\n",
    "with open (file1,\"a+\",newline='')as f1:\n",
    "    empdata = [\"deptid\",\"deptname\",\"te\",\"location\"]\n",
    "    l=[]\n",
    "    writer=csv.DictWriter(f1,fieldnames=empdata)\n",
    "    writer.writeheader()\n",
    "    n=int(input(\"Enter number of dept:\"))\n",
    "    for i in range(n):\n",
    "            l=list(input(\"Enter comma seperated deptid,deptname,te,location:\").split(\",\"))\n",
    "            writer.writerow({'deptid':l[0],'deptname':l[1],'te':l[2],'location':l[3]})\n",
    "            l.clear()\n",
    "\n",
    "with open(file1,'r') as f2:\n",
    "    rdr=csv.DictReader(f2)\n",
    "    for items in rdr:\n",
    "        print(items['deptid'],\"   \", items['deptname'])"
   ]
  },
  {
   "cell_type": "code",
   "execution_count": null,
   "id": "1dc3f7d3",
   "metadata": {},
   "outputs": [],
   "source": []
  }
 ],
 "metadata": {
  "kernelspec": {
   "display_name": "Python 3 (ipykernel)",
   "language": "python",
   "name": "python3"
  },
  "language_info": {
   "codemirror_mode": {
    "name": "ipython",
    "version": 3
   },
   "file_extension": ".py",
   "mimetype": "text/x-python",
   "name": "python",
   "nbconvert_exporter": "python",
   "pygments_lexer": "ipython3",
   "version": "3.11.5"
  }
 },
 "nbformat": 4,
 "nbformat_minor": 5
}
